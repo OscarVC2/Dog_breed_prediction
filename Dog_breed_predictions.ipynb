{
 "cells": [
  {
   "cell_type": "code",
   "execution_count": 26,
   "metadata": {
    "id": "1aPtwT4R5gVr"
   },
   "outputs": [],
   "source": [
    "!pip install -q kaggle"
   ]
  },
  {
   "cell_type": "code",
   "execution_count": 27,
   "metadata": {
    "id": "t5oePU5z5wKR"
   },
   "outputs": [],
   "source": [
    "!mkdir -p ~/.kaggle\n",
    "!cp kaggle.json ~/.kaggle/\n",
    "\n",
    "!chmod 600 ~/.kaggle/kaggle.json"
   ]
  },
  {
   "cell_type": "code",
   "execution_count": 28,
   "metadata": {
    "colab": {
     "base_uri": "https://localhost:8080/"
    },
    "id": "TMxNyx9Q7C3s",
    "outputId": "e7e9af08-55c9-40c4-ee23-30ac0e024c55"
   },
   "outputs": [
    {
     "name": "stdout",
     "output_type": "stream",
     "text": [
      "mkdir: cannot create directory ‘dog_dataset’: File exists\n",
      "/content/dog_dataset\n"
     ]
    }
   ],
   "source": [
    "!mkdir dog_dataset\n",
    "%cd dog_dataset"
   ]
  },
  {
   "cell_type": "code",
   "execution_count": 29,
   "metadata": {
    "colab": {
     "base_uri": "https://localhost:8080/"
    },
    "id": "3EbNJJky7R7X",
    "outputId": "99e73749-2a37-401e-e80e-d6645cd7082e"
   },
   "outputs": [
    {
     "name": "stdout",
     "output_type": "stream",
     "text": [
      "ref                                title                    size  lastUpdated          downloadCount  voteCount  usabilityRating  \n",
      "---------------------------------  ----------------------  -----  -------------------  -------------  ---------  ---------------  \n",
      "catherinehorng/dogbreedidfromcomp  dog-breed-id-from-comp  691MB  2020-06-26 03:09:05           1451          5  0.1764706        \n"
     ]
    }
   ],
   "source": [
    "!kaggle datasets list -s dogbreedidfromcomp"
   ]
  },
  {
   "cell_type": "code",
   "execution_count": 30,
   "metadata": {
    "colab": {
     "base_uri": "https://localhost:8080/"
    },
    "id": "9YYTVrjw77za",
    "outputId": "6ab9e846-6801-4c70-fdac-4266fa4882ca"
   },
   "outputs": [
    {
     "name": "stdout",
     "output_type": "stream",
     "text": [
      "Downloading dogbreedidfromcomp.zip to /content/dog_dataset\n",
      " 96% 666M/691M [00:02<00:00, 282MB/s]\n",
      "100% 691M/691M [00:03<00:00, 239MB/s]\n",
      "/content\n"
     ]
    }
   ],
   "source": [
    "!kaggle datasets download catherinehorng/dogbreedidfromcomp\n",
    "%cd .."
   ]
  },
  {
   "cell_type": "code",
   "execution_count": null,
   "metadata": {
    "id": "-OMeXTOy8SEQ"
   },
   "outputs": [],
   "source": [
    "!unzip dog_dataset/dogbreedidfromcomp.zip -d dog_dataset\n",
    "!rm dog_dataset/dogbreedidfromcomp.zip\n",
    "!rm dog_dataset/sample_submission.csv"
   ]
  },
  {
   "cell_type": "code",
   "execution_count": 43,
   "metadata": {
    "id": "2kI7Thcd8_H1"
   },
   "outputs": [],
   "source": [
    "import numpy as np\n",
    "import pandas as pd \n",
    "import matplotlib.pyplot as plt\n",
    "\n",
    "from tqdm import tqdm\n",
    "from keras.preprocessing import image\n",
    "from sklearn.preprocessing import label_binarize\n",
    "from sklearn.model_selection import train_test_split\n",
    "from keras.models import Sequential\n",
    "from keras.layers import Dense, Dropout, Flatten, Conv2D, MaxPool2D\n",
    "import tensorflow as tf\n",
    "import tensorflow \n",
    "\n",
    "from tensorflow import keras"
   ]
  },
  {
   "cell_type": "code",
   "execution_count": 33,
   "metadata": {
    "colab": {
     "base_uri": "https://localhost:8080/",
     "height": 224
    },
    "id": "wODam9ut-8X5",
    "outputId": "ee9ce289-96b7-4c83-9b47-1de822ac67f8"
   },
   "outputs": [
    {
     "name": "stdout",
     "output_type": "stream",
     "text": [
      "(10222, 2)\n"
     ]
    },
    {
     "data": {
      "text/html": [
       "\n",
       "  <div id=\"df-07271ef1-6b02-4dbd-9515-e9ef166690fc\">\n",
       "    <div class=\"colab-df-container\">\n",
       "      <div>\n",
       "<style scoped>\n",
       "    .dataframe tbody tr th:only-of-type {\n",
       "        vertical-align: middle;\n",
       "    }\n",
       "\n",
       "    .dataframe tbody tr th {\n",
       "        vertical-align: top;\n",
       "    }\n",
       "\n",
       "    .dataframe thead th {\n",
       "        text-align: right;\n",
       "    }\n",
       "</style>\n",
       "<table border=\"1\" class=\"dataframe\">\n",
       "  <thead>\n",
       "    <tr style=\"text-align: right;\">\n",
       "      <th></th>\n",
       "      <th>id</th>\n",
       "      <th>breed</th>\n",
       "    </tr>\n",
       "  </thead>\n",
       "  <tbody>\n",
       "    <tr>\n",
       "      <th>0</th>\n",
       "      <td>000bec180eb18c7604dcecc8fe0dba07</td>\n",
       "      <td>boston_bull</td>\n",
       "    </tr>\n",
       "    <tr>\n",
       "      <th>1</th>\n",
       "      <td>001513dfcb2ffafc82cccf4d8bbaba97</td>\n",
       "      <td>dingo</td>\n",
       "    </tr>\n",
       "    <tr>\n",
       "      <th>2</th>\n",
       "      <td>001cdf01b096e06d78e9e5112d419397</td>\n",
       "      <td>pekinese</td>\n",
       "    </tr>\n",
       "    <tr>\n",
       "      <th>3</th>\n",
       "      <td>00214f311d5d2247d5dfe4fe24b2303d</td>\n",
       "      <td>bluetick</td>\n",
       "    </tr>\n",
       "    <tr>\n",
       "      <th>4</th>\n",
       "      <td>0021f9ceb3235effd7fcde7f7538ed62</td>\n",
       "      <td>golden_retriever</td>\n",
       "    </tr>\n",
       "  </tbody>\n",
       "</table>\n",
       "</div>\n",
       "      <button class=\"colab-df-convert\" onclick=\"convertToInteractive('df-07271ef1-6b02-4dbd-9515-e9ef166690fc')\"\n",
       "              title=\"Convert this dataframe to an interactive table.\"\n",
       "              style=\"display:none;\">\n",
       "        \n",
       "  <svg xmlns=\"http://www.w3.org/2000/svg\" height=\"24px\"viewBox=\"0 0 24 24\"\n",
       "       width=\"24px\">\n",
       "    <path d=\"M0 0h24v24H0V0z\" fill=\"none\"/>\n",
       "    <path d=\"M18.56 5.44l.94 2.06.94-2.06 2.06-.94-2.06-.94-.94-2.06-.94 2.06-2.06.94zm-11 1L8.5 8.5l.94-2.06 2.06-.94-2.06-.94L8.5 2.5l-.94 2.06-2.06.94zm10 10l.94 2.06.94-2.06 2.06-.94-2.06-.94-.94-2.06-.94 2.06-2.06.94z\"/><path d=\"M17.41 7.96l-1.37-1.37c-.4-.4-.92-.59-1.43-.59-.52 0-1.04.2-1.43.59L10.3 9.45l-7.72 7.72c-.78.78-.78 2.05 0 2.83L4 21.41c.39.39.9.59 1.41.59.51 0 1.02-.2 1.41-.59l7.78-7.78 2.81-2.81c.8-.78.8-2.07 0-2.86zM5.41 20L4 18.59l7.72-7.72 1.47 1.35L5.41 20z\"/>\n",
       "  </svg>\n",
       "      </button>\n",
       "      \n",
       "  <style>\n",
       "    .colab-df-container {\n",
       "      display:flex;\n",
       "      flex-wrap:wrap;\n",
       "      gap: 12px;\n",
       "    }\n",
       "\n",
       "    .colab-df-convert {\n",
       "      background-color: #E8F0FE;\n",
       "      border: none;\n",
       "      border-radius: 50%;\n",
       "      cursor: pointer;\n",
       "      display: none;\n",
       "      fill: #1967D2;\n",
       "      height: 32px;\n",
       "      padding: 0 0 0 0;\n",
       "      width: 32px;\n",
       "    }\n",
       "\n",
       "    .colab-df-convert:hover {\n",
       "      background-color: #E2EBFA;\n",
       "      box-shadow: 0px 1px 2px rgba(60, 64, 67, 0.3), 0px 1px 3px 1px rgba(60, 64, 67, 0.15);\n",
       "      fill: #174EA6;\n",
       "    }\n",
       "\n",
       "    [theme=dark] .colab-df-convert {\n",
       "      background-color: #3B4455;\n",
       "      fill: #D2E3FC;\n",
       "    }\n",
       "\n",
       "    [theme=dark] .colab-df-convert:hover {\n",
       "      background-color: #434B5C;\n",
       "      box-shadow: 0px 1px 3px 1px rgba(0, 0, 0, 0.15);\n",
       "      filter: drop-shadow(0px 1px 2px rgba(0, 0, 0, 0.3));\n",
       "      fill: #FFFFFF;\n",
       "    }\n",
       "  </style>\n",
       "\n",
       "      <script>\n",
       "        const buttonEl =\n",
       "          document.querySelector('#df-07271ef1-6b02-4dbd-9515-e9ef166690fc button.colab-df-convert');\n",
       "        buttonEl.style.display =\n",
       "          google.colab.kernel.accessAllowed ? 'block' : 'none';\n",
       "\n",
       "        async function convertToInteractive(key) {\n",
       "          const element = document.querySelector('#df-07271ef1-6b02-4dbd-9515-e9ef166690fc');\n",
       "          const dataTable =\n",
       "            await google.colab.kernel.invokeFunction('convertToInteractive',\n",
       "                                                     [key], {});\n",
       "          if (!dataTable) return;\n",
       "\n",
       "          const docLinkHtml = 'Like what you see? Visit the ' +\n",
       "            '<a target=\"_blank\" href=https://colab.research.google.com/notebooks/data_table.ipynb>data table notebook</a>'\n",
       "            + ' to learn more about interactive tables.';\n",
       "          element.innerHTML = '';\n",
       "          dataTable['output_type'] = 'display_data';\n",
       "          await google.colab.output.renderOutput(dataTable, element);\n",
       "          const docLink = document.createElement('div');\n",
       "          docLink.innerHTML = docLinkHtml;\n",
       "          element.appendChild(docLink);\n",
       "        }\n",
       "      </script>\n",
       "    </div>\n",
       "  </div>\n",
       "  "
      ],
      "text/plain": [
       "                                 id             breed\n",
       "0  000bec180eb18c7604dcecc8fe0dba07       boston_bull\n",
       "1  001513dfcb2ffafc82cccf4d8bbaba97             dingo\n",
       "2  001cdf01b096e06d78e9e5112d419397          pekinese\n",
       "3  00214f311d5d2247d5dfe4fe24b2303d          bluetick\n",
       "4  0021f9ceb3235effd7fcde7f7538ed62  golden_retriever"
      ]
     },
     "execution_count": 33,
     "metadata": {},
     "output_type": "execute_result"
    }
   ],
   "source": [
    "labels = pd.read_csv('dog_dataset/labels.csv')\n",
    "print(labels.shape)\n",
    "labels.head()"
   ]
  },
  {
   "cell_type": "code",
   "execution_count": 34,
   "metadata": {
    "id": "14Jd7vHnNrD_"
   },
   "outputs": [],
   "source": [
    "labels = labels.drop_duplicates()"
   ]
  },
  {
   "cell_type": "code",
   "execution_count": 35,
   "metadata": {
    "colab": {
     "base_uri": "https://localhost:8080/"
    },
    "id": "SIr766m2Ovdo",
    "outputId": "351a6c39-0add-4dea-ddd8-690a5d3b0fc2"
   },
   "outputs": [
    {
     "data": {
      "text/plain": [
       "0"
      ]
     },
     "execution_count": 35,
     "metadata": {},
     "output_type": "execute_result"
    }
   ],
   "source": [
    "labels.duplicated().sum()"
   ]
  },
  {
   "cell_type": "code",
   "execution_count": 36,
   "metadata": {
    "id": "t058zg75_Q69"
   },
   "outputs": [],
   "source": [
    "breeds = labels['breed']\n",
    "breed_count = breeds.value_counts()"
   ]
  },
  {
   "cell_type": "code",
   "execution_count": 37,
   "metadata": {
    "colab": {
     "base_uri": "https://localhost:8080/"
    },
    "id": "2k1ylBLtNOjC",
    "outputId": "143027aa-076e-4b74-eb78-4dc0945c69b2"
   },
   "outputs": [
    {
     "data": {
      "text/plain": [
       "75"
      ]
     },
     "execution_count": 37,
     "metadata": {},
     "output_type": "execute_result"
    }
   ],
   "source": [
    "breed_count.duplicated().sum()"
   ]
  },
  {
   "cell_type": "code",
   "execution_count": 15,
   "metadata": {
    "id": "yNlRn16FO5W9"
   },
   "outputs": [],
   "source": [
    "breeds = breeds.drop_duplicates()"
   ]
  },
  {
   "cell_type": "code",
   "execution_count": 16,
   "metadata": {
    "colab": {
     "base_uri": "https://localhost:8080/"
    },
    "id": "l-7CjiKTPERp",
    "outputId": "a66df17b-0665-4d26-cfbf-e40f59081f2c"
   },
   "outputs": [
    {
     "data": {
      "text/plain": [
       "0"
      ]
     },
     "execution_count": 16,
     "metadata": {},
     "output_type": "execute_result"
    }
   ],
   "source": [
    "breeds.duplicated().sum()"
   ]
  },
  {
   "cell_type": "code",
   "execution_count": 17,
   "metadata": {
    "id": "7jKjJf8eBZxl"
   },
   "outputs": [],
   "source": [
    "class_names = list(breeds[0:10])"
   ]
  },
  {
   "cell_type": "code",
   "execution_count": 18,
   "metadata": {
    "colab": {
     "base_uri": "https://localhost:8080/"
    },
    "id": "7vNB1LCY_k1o",
    "outputId": "97f53716-4a65-41a7-be22-9326d228d887"
   },
   "outputs": [
    {
     "data": {
      "text/plain": [
       "['boston_bull',\n",
       " 'dingo',\n",
       " 'pekinese',\n",
       " 'bluetick',\n",
       " 'golden_retriever',\n",
       " 'bedlington_terrier',\n",
       " 'borzoi',\n",
       " 'basenji',\n",
       " 'scottish_deerhound',\n",
       " 'shetland_sheepdog']"
      ]
     },
     "execution_count": 18,
     "metadata": {},
     "output_type": "execute_result"
    }
   ],
   "source": [
    "class_names"
   ]
  },
  {
   "cell_type": "code",
   "execution_count": 19,
   "metadata": {
    "id": "_ex_C5uxPazP"
   },
   "outputs": [],
   "source": [
    "labels = labels[(labels['breed'].isin(class_names))]"
   ]
  },
  {
   "cell_type": "code",
   "execution_count": 20,
   "metadata": {
    "id": "9w7XEKBBUCAW"
   },
   "outputs": [],
   "source": [
    "labels = labels.reset_index()"
   ]
  },
  {
   "cell_type": "code",
   "execution_count": 21,
   "metadata": {
    "id": "8TdWlMue_3di"
   },
   "outputs": [],
   "source": [
    "X_data = np.zeros((len(labels), 224, 224, 3), dtype='float')\n",
    "Y_data = label_binarize(labels['breed'], classes=class_names)"
   ]
  },
  {
   "cell_type": "code",
   "execution_count": 22,
   "metadata": {
    "colab": {
     "base_uri": "https://localhost:8080/"
    },
    "id": "vDmAp7cDCCpD",
    "outputId": "c9287299-5738-4efd-f9cb-790f06333de2"
   },
   "outputs": [
    {
     "name": "stderr",
     "output_type": "stream",
     "text": [
      "100%|██████████| 870/870 [00:03<00:00, 286.46it/s]"
     ]
    },
    {
     "name": "stdout",
     "output_type": "stream",
     "text": [
      "(870, 224, 224, 3)\n",
      "130959360\n",
      "(870, 10)\n",
      "8700\n"
     ]
    },
    {
     "name": "stderr",
     "output_type": "stream",
     "text": [
      "\n"
     ]
    }
   ],
   "source": [
    "for i in tqdm(range(len(labels))):\n",
    "  img = image.load_img(\"dog_dataset/train/%s.jpg\" % labels['id'][i], target_size=(224, 224))\n",
    "  img = image.img_to_array(img)\n",
    "  x = np.expand_dims(img.copy(), axis = 0)\n",
    "  X_data[i] = x/255.0\n",
    "\n",
    "print(X_data.shape)\n",
    "print(X_data.size)\n",
    "print(Y_data.shape)\n",
    "print(Y_data.size)"
   ]
  },
  {
   "cell_type": "code",
   "execution_count": 39,
   "metadata": {
    "colab": {
     "base_uri": "https://localhost:8080/"
    },
    "id": "2DAlebEqEzoQ",
    "outputId": "f7ad6d8e-5e70-4a62-ea60-78f635a8cd6d"
   },
   "outputs": [
    {
     "name": "stdout",
     "output_type": "stream",
     "text": [
      "Model: \"sequential_1\"\n",
      "_________________________________________________________________\n",
      " Layer (type)                Output Shape              Param #   \n",
      "=================================================================\n",
      " conv2d_4 (Conv2D)           (None, 220, 220, 64)      4864      \n",
      "                                                                 \n",
      " max_pooling2d_4 (MaxPooling  (None, 110, 110, 64)     0         \n",
      " 2D)                                                             \n",
      "                                                                 \n",
      " conv2d_5 (Conv2D)           (None, 108, 108, 32)      18464     \n",
      "                                                                 \n",
      " max_pooling2d_5 (MaxPooling  (None, 54, 54, 32)       0         \n",
      " 2D)                                                             \n",
      "                                                                 \n",
      " conv2d_6 (Conv2D)           (None, 48, 48, 16)        25104     \n",
      "                                                                 \n",
      " max_pooling2d_6 (MaxPooling  (None, 24, 24, 16)       0         \n",
      " 2D)                                                             \n",
      "                                                                 \n",
      " conv2d_7 (Conv2D)           (None, 20, 20, 8)         3208      \n",
      "                                                                 \n",
      " max_pooling2d_7 (MaxPooling  (None, 10, 10, 8)        0         \n",
      " 2D)                                                             \n",
      "                                                                 \n",
      " flatten_1 (Flatten)         (None, 800)               0         \n",
      "                                                                 \n",
      " dense_3 (Dense)             (None, 128)               102528    \n",
      "                                                                 \n",
      " dense_4 (Dense)             (None, 64)                8256      \n",
      "                                                                 \n",
      " dense_5 (Dense)             (None, 10)                650       \n",
      "                                                                 \n",
      "=================================================================\n",
      "Total params: 163,074\n",
      "Trainable params: 163,074\n",
      "Non-trainable params: 0\n",
      "_________________________________________________________________\n"
     ]
    }
   ],
   "source": [
    "from scipy.ndimage import filters\n",
    "model = Sequential()\n",
    "\n",
    "model.add(Conv2D(filters=  64, kernel_size=(5,5), activation='relu', input_shape=(224,224,3)))\n",
    "model.add(MaxPool2D(pool_size=(2,2)))\n",
    "\n",
    "model.add(Conv2D(filters=  32, kernel_size=(3,3), activation='relu', kernel_regularizer='l2'))\n",
    "model.add(MaxPool2D(pool_size=(2,2)))\n",
    "\n",
    "model.add(Conv2D(filters=  16, kernel_size=(7,7), activation='relu', kernel_regularizer='l2'))\n",
    "model.add(MaxPool2D(pool_size=(2,2)))\n",
    "\n",
    "model.add(Conv2D(filters=  8, kernel_size=(5,5), activation='relu', kernel_regularizer='l2'))\n",
    "model.add(MaxPool2D(pool_size=(2,2)))\n",
    "\n",
    "model.add(Flatten())\n",
    "model.add(Dense(128, activation='relu', kernel_regularizer='l2'))\n",
    "model.add(Dense(64, activation='relu', kernel_regularizer='l2'))\n",
    "model.add(Dense(len(class_names), activation='softmax'))\n",
    "\n",
    "model.compile(loss='categorical_crossentropy', optimizer='adam', metrics=['accuracy'])\n",
    "\n",
    "model.summary()"
   ]
  },
  {
   "cell_type": "code",
   "execution_count": 40,
   "metadata": {
    "id": "ks6InUP0IyjT"
   },
   "outputs": [],
   "source": [
    "X_train, X_test, y_train, y_test = train_test_split(X_data,Y_data, test_size=0.2, random_state=42)"
   ]
  },
  {
   "cell_type": "code",
   "execution_count": 46,
   "metadata": {
    "colab": {
     "base_uri": "https://localhost:8080/"
    },
    "id": "dwHB5RVLVLvS",
    "outputId": "3d740981-de73-4e7b-c8c1-19fac66b7a65"
   },
   "outputs": [
    {
     "name": "stdout",
     "output_type": "stream",
     "text": [
      "Epoch 1/100\n",
      "6/6 [==============================] - 1s 171ms/step - loss: 0.3918 - accuracy: 0.9928 - val_loss: 8.2103 - val_accuracy: 0.2126\n",
      "Epoch 2/100\n",
      "6/6 [==============================] - 1s 147ms/step - loss: 0.3761 - accuracy: 0.9957 - val_loss: 8.2091 - val_accuracy: 0.2184\n",
      "Epoch 3/100\n",
      "6/6 [==============================] - 1s 147ms/step - loss: 0.3616 - accuracy: 0.9986 - val_loss: 8.1830 - val_accuracy: 0.2241\n",
      "Epoch 4/100\n",
      "6/6 [==============================] - 1s 144ms/step - loss: 0.3545 - accuracy: 1.0000 - val_loss: 8.1543 - val_accuracy: 0.2069\n",
      "Epoch 5/100\n",
      "6/6 [==============================] - 1s 142ms/step - loss: 0.3452 - accuracy: 1.0000 - val_loss: 8.0616 - val_accuracy: 0.2011\n",
      "Epoch 6/100\n",
      "6/6 [==============================] - 1s 145ms/step - loss: 0.3383 - accuracy: 1.0000 - val_loss: 7.9082 - val_accuracy: 0.2011\n",
      "Epoch 7/100\n",
      "6/6 [==============================] - 1s 142ms/step - loss: 0.3317 - accuracy: 1.0000 - val_loss: 7.7088 - val_accuracy: 0.2011\n",
      "Epoch 8/100\n",
      "6/6 [==============================] - 1s 144ms/step - loss: 0.3251 - accuracy: 1.0000 - val_loss: 7.5377 - val_accuracy: 0.2011\n",
      "Epoch 9/100\n",
      "6/6 [==============================] - 1s 141ms/step - loss: 0.3189 - accuracy: 1.0000 - val_loss: 7.3772 - val_accuracy: 0.2011\n",
      "Epoch 10/100\n",
      "6/6 [==============================] - 1s 142ms/step - loss: 0.3132 - accuracy: 1.0000 - val_loss: 7.2686 - val_accuracy: 0.2126\n",
      "Epoch 11/100\n",
      "6/6 [==============================] - 1s 143ms/step - loss: 0.3079 - accuracy: 1.0000 - val_loss: 7.1811 - val_accuracy: 0.2011\n",
      "Epoch 12/100\n",
      "6/6 [==============================] - 1s 143ms/step - loss: 0.3028 - accuracy: 1.0000 - val_loss: 7.1493 - val_accuracy: 0.2011\n",
      "Epoch 13/100\n",
      "6/6 [==============================] - 1s 146ms/step - loss: 0.2980 - accuracy: 1.0000 - val_loss: 7.1171 - val_accuracy: 0.2011\n",
      "Epoch 14/100\n",
      "6/6 [==============================] - 1s 143ms/step - loss: 0.2935 - accuracy: 1.0000 - val_loss: 7.0864 - val_accuracy: 0.2069\n",
      "Epoch 15/100\n",
      "6/6 [==============================] - 1s 141ms/step - loss: 0.2891 - accuracy: 1.0000 - val_loss: 7.0801 - val_accuracy: 0.2069\n",
      "Epoch 16/100\n",
      "6/6 [==============================] - 1s 142ms/step - loss: 0.2850 - accuracy: 1.0000 - val_loss: 7.0619 - val_accuracy: 0.2011\n",
      "Epoch 17/100\n",
      "6/6 [==============================] - 1s 144ms/step - loss: 0.2809 - accuracy: 1.0000 - val_loss: 7.0351 - val_accuracy: 0.2011\n",
      "Epoch 18/100\n",
      "6/6 [==============================] - 1s 140ms/step - loss: 0.2770 - accuracy: 1.0000 - val_loss: 7.0294 - val_accuracy: 0.2011\n",
      "Epoch 19/100\n",
      "6/6 [==============================] - 1s 142ms/step - loss: 0.2733 - accuracy: 1.0000 - val_loss: 7.0212 - val_accuracy: 0.1954\n",
      "Epoch 20/100\n",
      "6/6 [==============================] - 1s 142ms/step - loss: 0.2696 - accuracy: 1.0000 - val_loss: 7.0019 - val_accuracy: 0.1954\n",
      "Epoch 21/100\n",
      "6/6 [==============================] - 1s 143ms/step - loss: 0.2661 - accuracy: 1.0000 - val_loss: 7.0005 - val_accuracy: 0.1954\n",
      "Epoch 22/100\n",
      "6/6 [==============================] - 1s 143ms/step - loss: 0.2626 - accuracy: 1.0000 - val_loss: 7.0035 - val_accuracy: 0.2069\n",
      "Epoch 23/100\n",
      "6/6 [==============================] - 1s 142ms/step - loss: 0.2593 - accuracy: 1.0000 - val_loss: 6.9716 - val_accuracy: 0.2011\n",
      "Epoch 24/100\n",
      "6/6 [==============================] - 1s 142ms/step - loss: 0.2560 - accuracy: 1.0000 - val_loss: 6.9650 - val_accuracy: 0.1954\n",
      "Epoch 25/100\n",
      "6/6 [==============================] - 1s 141ms/step - loss: 0.2528 - accuracy: 1.0000 - val_loss: 6.9516 - val_accuracy: 0.1954\n",
      "Epoch 26/100\n",
      "6/6 [==============================] - 1s 143ms/step - loss: 0.2497 - accuracy: 1.0000 - val_loss: 6.9145 - val_accuracy: 0.1954\n",
      "Epoch 27/100\n",
      "6/6 [==============================] - 1s 143ms/step - loss: 0.2467 - accuracy: 1.0000 - val_loss: 6.9020 - val_accuracy: 0.1954\n",
      "Epoch 28/100\n",
      "6/6 [==============================] - 1s 145ms/step - loss: 0.2437 - accuracy: 1.0000 - val_loss: 6.9224 - val_accuracy: 0.1954\n",
      "Epoch 29/100\n",
      "6/6 [==============================] - 1s 143ms/step - loss: 0.2409 - accuracy: 1.0000 - val_loss: 6.9168 - val_accuracy: 0.1954\n",
      "Epoch 30/100\n",
      "6/6 [==============================] - 1s 140ms/step - loss: 0.2380 - accuracy: 1.0000 - val_loss: 6.9014 - val_accuracy: 0.1954\n",
      "Epoch 31/100\n",
      "6/6 [==============================] - 1s 145ms/step - loss: 0.2353 - accuracy: 1.0000 - val_loss: 6.8903 - val_accuracy: 0.2069\n",
      "Epoch 32/100\n",
      "6/6 [==============================] - 1s 143ms/step - loss: 0.2325 - accuracy: 1.0000 - val_loss: 6.8613 - val_accuracy: 0.1954\n",
      "Epoch 33/100\n",
      "6/6 [==============================] - 1s 142ms/step - loss: 0.2299 - accuracy: 1.0000 - val_loss: 6.8406 - val_accuracy: 0.1897\n",
      "Epoch 34/100\n",
      "6/6 [==============================] - 1s 143ms/step - loss: 0.2273 - accuracy: 1.0000 - val_loss: 6.8433 - val_accuracy: 0.1954\n",
      "Epoch 35/100\n",
      "6/6 [==============================] - 1s 141ms/step - loss: 0.2248 - accuracy: 1.0000 - val_loss: 6.8450 - val_accuracy: 0.1954\n",
      "Epoch 36/100\n",
      "6/6 [==============================] - 1s 141ms/step - loss: 0.2223 - accuracy: 1.0000 - val_loss: 6.8283 - val_accuracy: 0.2011\n",
      "Epoch 37/100\n",
      "6/6 [==============================] - 1s 143ms/step - loss: 0.2198 - accuracy: 1.0000 - val_loss: 6.8231 - val_accuracy: 0.2126\n",
      "Epoch 38/100\n",
      "6/6 [==============================] - 1s 142ms/step - loss: 0.2174 - accuracy: 1.0000 - val_loss: 6.8120 - val_accuracy: 0.2069\n",
      "Epoch 39/100\n",
      "6/6 [==============================] - 1s 145ms/step - loss: 0.2151 - accuracy: 1.0000 - val_loss: 6.7917 - val_accuracy: 0.2011\n",
      "Epoch 40/100\n",
      "6/6 [==============================] - 1s 143ms/step - loss: 0.2128 - accuracy: 1.0000 - val_loss: 6.7816 - val_accuracy: 0.2126\n",
      "Epoch 41/100\n",
      "6/6 [==============================] - 1s 146ms/step - loss: 0.2105 - accuracy: 1.0000 - val_loss: 6.7540 - val_accuracy: 0.2184\n",
      "Epoch 42/100\n",
      "6/6 [==============================] - 1s 143ms/step - loss: 0.2083 - accuracy: 1.0000 - val_loss: 6.7581 - val_accuracy: 0.2184\n",
      "Epoch 43/100\n",
      "6/6 [==============================] - 1s 141ms/step - loss: 0.2061 - accuracy: 1.0000 - val_loss: 6.7559 - val_accuracy: 0.2184\n",
      "Epoch 44/100\n",
      "6/6 [==============================] - 1s 142ms/step - loss: 0.2040 - accuracy: 1.0000 - val_loss: 6.7643 - val_accuracy: 0.2126\n",
      "Epoch 45/100\n",
      "6/6 [==============================] - 1s 143ms/step - loss: 0.2019 - accuracy: 1.0000 - val_loss: 6.7561 - val_accuracy: 0.2069\n",
      "Epoch 46/100\n",
      "6/6 [==============================] - 1s 142ms/step - loss: 0.1998 - accuracy: 1.0000 - val_loss: 6.7072 - val_accuracy: 0.2184\n",
      "Epoch 47/100\n",
      "6/6 [==============================] - 1s 145ms/step - loss: 0.1978 - accuracy: 1.0000 - val_loss: 6.6855 - val_accuracy: 0.2069\n",
      "Epoch 48/100\n",
      "6/6 [==============================] - 1s 144ms/step - loss: 0.1958 - accuracy: 1.0000 - val_loss: 6.6666 - val_accuracy: 0.2241\n",
      "Epoch 49/100\n",
      "6/6 [==============================] - 1s 145ms/step - loss: 0.1938 - accuracy: 1.0000 - val_loss: 6.6471 - val_accuracy: 0.2184\n",
      "Epoch 50/100\n",
      "6/6 [==============================] - 1s 140ms/step - loss: 0.1919 - accuracy: 1.0000 - val_loss: 6.6525 - val_accuracy: 0.2011\n",
      "Epoch 51/100\n",
      "6/6 [==============================] - 1s 143ms/step - loss: 0.1900 - accuracy: 1.0000 - val_loss: 6.6331 - val_accuracy: 0.2126\n",
      "Epoch 52/100\n",
      "6/6 [==============================] - 1s 143ms/step - loss: 0.1881 - accuracy: 1.0000 - val_loss: 6.6050 - val_accuracy: 0.2126\n",
      "Epoch 53/100\n",
      "6/6 [==============================] - 1s 143ms/step - loss: 0.1863 - accuracy: 1.0000 - val_loss: 6.5840 - val_accuracy: 0.2184\n",
      "Epoch 54/100\n",
      "6/6 [==============================] - 1s 141ms/step - loss: 0.1845 - accuracy: 1.0000 - val_loss: 6.5821 - val_accuracy: 0.2241\n",
      "Epoch 55/100\n",
      "6/6 [==============================] - 1s 142ms/step - loss: 0.1827 - accuracy: 1.0000 - val_loss: 6.5920 - val_accuracy: 0.2241\n",
      "Epoch 56/100\n",
      "6/6 [==============================] - 1s 148ms/step - loss: 0.1810 - accuracy: 1.0000 - val_loss: 6.5649 - val_accuracy: 0.2241\n",
      "Epoch 57/100\n",
      "6/6 [==============================] - 1s 143ms/step - loss: 0.1793 - accuracy: 1.0000 - val_loss: 6.5515 - val_accuracy: 0.2241\n",
      "Epoch 58/100\n",
      "6/6 [==============================] - 1s 144ms/step - loss: 0.1776 - accuracy: 1.0000 - val_loss: 6.5518 - val_accuracy: 0.2241\n",
      "Epoch 59/100\n",
      "6/6 [==============================] - 1s 142ms/step - loss: 0.1759 - accuracy: 1.0000 - val_loss: 6.5021 - val_accuracy: 0.2299\n",
      "Epoch 60/100\n",
      "6/6 [==============================] - 1s 142ms/step - loss: 0.1742 - accuracy: 1.0000 - val_loss: 6.5119 - val_accuracy: 0.2299\n",
      "Epoch 61/100\n",
      "6/6 [==============================] - 1s 142ms/step - loss: 0.1726 - accuracy: 1.0000 - val_loss: 6.4738 - val_accuracy: 0.2241\n",
      "Epoch 62/100\n",
      "6/6 [==============================] - 1s 142ms/step - loss: 0.1710 - accuracy: 1.0000 - val_loss: 6.4774 - val_accuracy: 0.2184\n",
      "Epoch 63/100\n",
      "6/6 [==============================] - 1s 141ms/step - loss: 0.1695 - accuracy: 1.0000 - val_loss: 6.4706 - val_accuracy: 0.2241\n",
      "Epoch 64/100\n",
      "6/6 [==============================] - 1s 142ms/step - loss: 0.1679 - accuracy: 1.0000 - val_loss: 6.4477 - val_accuracy: 0.2356\n",
      "Epoch 65/100\n",
      "6/6 [==============================] - 1s 144ms/step - loss: 0.1664 - accuracy: 1.0000 - val_loss: 6.4621 - val_accuracy: 0.2356\n",
      "Epoch 66/100\n",
      "6/6 [==============================] - 1s 141ms/step - loss: 0.1650 - accuracy: 1.0000 - val_loss: 6.4109 - val_accuracy: 0.2356\n",
      "Epoch 67/100\n",
      "6/6 [==============================] - 1s 147ms/step - loss: 0.1635 - accuracy: 1.0000 - val_loss: 6.4125 - val_accuracy: 0.2414\n",
      "Epoch 68/100\n",
      "6/6 [==============================] - 1s 144ms/step - loss: 0.1620 - accuracy: 1.0000 - val_loss: 6.3673 - val_accuracy: 0.2299\n",
      "Epoch 69/100\n",
      "6/6 [==============================] - 1s 143ms/step - loss: 0.1606 - accuracy: 1.0000 - val_loss: 6.3512 - val_accuracy: 0.2414\n",
      "Epoch 70/100\n",
      "6/6 [==============================] - 1s 142ms/step - loss: 0.1591 - accuracy: 1.0000 - val_loss: 6.3520 - val_accuracy: 0.2356\n",
      "Epoch 71/100\n",
      "6/6 [==============================] - 1s 144ms/step - loss: 0.1578 - accuracy: 1.0000 - val_loss: 6.3487 - val_accuracy: 0.2414\n",
      "Epoch 72/100\n",
      "6/6 [==============================] - 1s 145ms/step - loss: 0.1564 - accuracy: 1.0000 - val_loss: 6.3197 - val_accuracy: 0.2356\n",
      "Epoch 73/100\n",
      "6/6 [==============================] - 1s 142ms/step - loss: 0.1550 - accuracy: 1.0000 - val_loss: 6.2867 - val_accuracy: 0.2241\n",
      "Epoch 74/100\n",
      "6/6 [==============================] - 1s 142ms/step - loss: 0.1537 - accuracy: 1.0000 - val_loss: 6.3130 - val_accuracy: 0.2299\n",
      "Epoch 75/100\n",
      "6/6 [==============================] - 1s 143ms/step - loss: 0.1524 - accuracy: 1.0000 - val_loss: 6.2722 - val_accuracy: 0.2299\n",
      "Epoch 76/100\n",
      "6/6 [==============================] - 1s 145ms/step - loss: 0.1511 - accuracy: 1.0000 - val_loss: 6.2546 - val_accuracy: 0.2299\n",
      "Epoch 77/100\n",
      "6/6 [==============================] - 1s 142ms/step - loss: 0.1499 - accuracy: 1.0000 - val_loss: 6.2225 - val_accuracy: 0.2184\n",
      "Epoch 78/100\n",
      "6/6 [==============================] - 1s 142ms/step - loss: 0.1486 - accuracy: 1.0000 - val_loss: 6.2634 - val_accuracy: 0.2184\n",
      "Epoch 79/100\n",
      "6/6 [==============================] - 1s 140ms/step - loss: 0.1474 - accuracy: 1.0000 - val_loss: 6.2377 - val_accuracy: 0.2241\n",
      "Epoch 80/100\n",
      "6/6 [==============================] - 1s 143ms/step - loss: 0.1462 - accuracy: 1.0000 - val_loss: 6.1900 - val_accuracy: 0.2126\n",
      "Epoch 81/100\n",
      "6/6 [==============================] - 1s 141ms/step - loss: 0.1450 - accuracy: 1.0000 - val_loss: 6.1701 - val_accuracy: 0.2241\n",
      "Epoch 82/100\n",
      "6/6 [==============================] - 1s 143ms/step - loss: 0.1438 - accuracy: 1.0000 - val_loss: 6.1610 - val_accuracy: 0.2126\n",
      "Epoch 83/100\n",
      "6/6 [==============================] - 1s 140ms/step - loss: 0.1427 - accuracy: 1.0000 - val_loss: 6.1560 - val_accuracy: 0.2184\n",
      "Epoch 84/100\n",
      "6/6 [==============================] - 1s 146ms/step - loss: 0.1415 - accuracy: 1.0000 - val_loss: 6.1959 - val_accuracy: 0.2126\n",
      "Epoch 85/100\n",
      "6/6 [==============================] - 1s 143ms/step - loss: 0.1404 - accuracy: 1.0000 - val_loss: 6.1033 - val_accuracy: 0.2184\n",
      "Epoch 86/100\n",
      "6/6 [==============================] - 1s 145ms/step - loss: 0.1394 - accuracy: 1.0000 - val_loss: 6.1703 - val_accuracy: 0.2069\n",
      "Epoch 87/100\n",
      "6/6 [==============================] - 1s 143ms/step - loss: 0.1382 - accuracy: 1.0000 - val_loss: 6.0993 - val_accuracy: 0.2126\n",
      "Epoch 88/100\n",
      "6/6 [==============================] - 1s 148ms/step - loss: 0.1370 - accuracy: 1.0000 - val_loss: 6.1129 - val_accuracy: 0.2126\n",
      "Epoch 89/100\n",
      "6/6 [==============================] - 1s 144ms/step - loss: 0.1360 - accuracy: 1.0000 - val_loss: 6.0540 - val_accuracy: 0.2126\n",
      "Epoch 90/100\n",
      "6/6 [==============================] - 1s 142ms/step - loss: 0.1349 - accuracy: 1.0000 - val_loss: 6.0461 - val_accuracy: 0.2184\n",
      "Epoch 91/100\n",
      "6/6 [==============================] - 1s 146ms/step - loss: 0.1338 - accuracy: 1.0000 - val_loss: 6.0326 - val_accuracy: 0.2126\n",
      "Epoch 92/100\n",
      "6/6 [==============================] - 1s 141ms/step - loss: 0.1328 - accuracy: 1.0000 - val_loss: 6.0570 - val_accuracy: 0.2126\n",
      "Epoch 93/100\n",
      "6/6 [==============================] - 1s 146ms/step - loss: 0.1318 - accuracy: 1.0000 - val_loss: 5.9966 - val_accuracy: 0.2184\n",
      "Epoch 94/100\n",
      "6/6 [==============================] - 1s 145ms/step - loss: 0.1308 - accuracy: 1.0000 - val_loss: 6.0340 - val_accuracy: 0.2011\n",
      "Epoch 95/100\n",
      "6/6 [==============================] - 1s 142ms/step - loss: 0.1298 - accuracy: 1.0000 - val_loss: 5.9816 - val_accuracy: 0.2126\n",
      "Epoch 96/100\n",
      "6/6 [==============================] - 1s 146ms/step - loss: 0.1288 - accuracy: 1.0000 - val_loss: 5.9903 - val_accuracy: 0.2069\n",
      "Epoch 97/100\n",
      "6/6 [==============================] - 1s 147ms/step - loss: 0.1278 - accuracy: 1.0000 - val_loss: 5.9704 - val_accuracy: 0.2069\n",
      "Epoch 98/100\n",
      "6/6 [==============================] - 1s 145ms/step - loss: 0.1269 - accuracy: 1.0000 - val_loss: 5.9356 - val_accuracy: 0.2126\n",
      "Epoch 99/100\n",
      "6/6 [==============================] - 1s 145ms/step - loss: 0.1260 - accuracy: 1.0000 - val_loss: 5.9703 - val_accuracy: 0.2126\n",
      "Epoch 100/100\n",
      "6/6 [==============================] - 1s 140ms/step - loss: 0.1250 - accuracy: 1.0000 - val_loss: 5.9704 - val_accuracy: 0.2126\n"
     ]
    }
   ],
   "source": [
    "history = model.fit(\n",
    "    X_train,\n",
    "    y_train,\n",
    "    batch_size = 128,\n",
    "    epochs = 100,\n",
    "    validation_data = (X_test, y_test),\n",
    "    callbacks = tf.keras.callbacks.EarlyStopping(monitor='loss', patience=3)\n",
    "    )"
   ]
  },
  {
   "cell_type": "code",
   "execution_count": 47,
   "metadata": {
    "colab": {
     "base_uri": "https://localhost:8080/"
    },
    "id": "psXqpQpBX8Gg",
    "outputId": "94bf9313-e911-425f-e353-f0643934c22d"
   },
   "outputs": [
    {
     "name": "stdout",
     "output_type": "stream",
     "text": [
      "6/6 [==============================] - 0s 16ms/step - loss: 5.9704 - accuracy: 0.2126\n",
      "[5.970414161682129, 0.21264368295669556]\n"
     ]
    }
   ],
   "source": [
    "acc_test = model.evaluate(X_test, y_test)\n",
    "print(acc_test)"
   ]
  }
 ],
 "metadata": {
  "accelerator": "GPU",
  "colab": {
   "machine_shape": "hm",
   "name": "Dog_breed_predictions.ipynb",
   "provenance": []
  },
  "gpuClass": "standard",
  "kernelspec": {
   "display_name": "Python 3 (ipykernel)",
   "language": "python",
   "name": "python3"
  },
  "language_info": {
   "codemirror_mode": {
    "name": "ipython",
    "version": 3
   },
   "file_extension": ".py",
   "mimetype": "text/x-python",
   "name": "python",
   "nbconvert_exporter": "python",
   "pygments_lexer": "ipython3",
   "version": "3.8.13"
  }
 },
 "nbformat": 4,
 "nbformat_minor": 4
}
